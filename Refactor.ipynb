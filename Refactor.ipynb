{
 "cells": [
  {
   "cell_type": "code",
   "execution_count": 2,
   "metadata": {},
   "outputs": [
    {
     "name": "stdout",
     "output_type": "stream",
     "text": [
      "('Holly cow!!!!Wow this might work well', 'Now this !!!')\n"
     ]
    }
   ],
   "source": [
    "xyz = 'Holly cow!!!!'\n",
    "%run ./callee.ipynb xyz\n",
    "print(sss)"
   ]
  },
  {
   "cell_type": "code",
   "execution_count": null,
   "metadata": {},
   "outputs": [],
   "source": [
    "Set parameters\n",
    "    Select features\n",
    "    Select period or days\n",
    "    Select validation split\n",
    "    Select predition (open vs close or ...)\n",
    "    \n",
    "    \n",
    "#from ipywidgets import widgets\n",
    "#dir(widgets)\n",
    "\n",
    "print(\"This is input one: \")\n",
    "a = input()\n",
    "print(\"This is input two: \")\n",
    "b = input()\n",
    "#print(a)\n",
    "#b = input()\n"
   ]
  },
  {
   "cell_type": "code",
   "execution_count": null,
   "metadata": {},
   "outputs": [],
   "source": [
    "import numpy as np\n",
    "\n",
    "%run ./DataSPY.ipynb\n",
    "\n",
    "train_s = np.load('train_s_81b-t.npy')\n",
    "train_r = np.load('train_r_81b-t.npy')\n",
    "test_s = np.load('test_s_81b-t.npy')\n",
    "test_r = np.load('test_r_81b-t.npy')\n",
    "print(train_s.shape)\n",
    "print(test_s.shape)\n",
    "print(train_r.shape)\n",
    "print(test_r.shape)"
   ]
  },
  {
   "cell_type": "code",
   "execution_count": 72,
   "metadata": {},
   "outputs": [
    {
     "name": "stdout",
     "output_type": "stream",
     "text": [
      "                         ts        o        h        l        c          v  \\\n",
      "897808  2016-01-04 15:30:00  197.433  197.463  197.197  197.344  2527030.0   \n",
      "897809  2016-01-04 15:31:00  197.335  197.370  197.143  197.251   863017.0   \n",
      "897810  2016-01-04 15:32:00  197.246  197.463  197.246  197.335   651857.0   \n",
      "897811  2016-01-04 15:33:00  197.335  197.344  197.138  197.206   824899.0   \n",
      "897812  2016-01-04 15:34:00  197.206  197.206  196.960  197.019   848969.0   \n",
      "\n",
      "                      n_ts  \n",
      "897808 2016-01-04 15:30:00  \n",
      "897809 2016-01-04 15:31:00  \n",
      "897810 2016-01-04 15:32:00  \n",
      "897811 2016-01-04 15:33:00  \n",
      "897812 2016-01-04 15:34:00  \n",
      "                         ts       o       h       l        c          v  \\\n",
      "985163  2016-11-18 21:55:00  218.51  218.56  218.44  218.445   537788.0   \n",
      "985164  2016-11-18 21:56:00  218.44  218.53  218.42  218.530   589939.0   \n",
      "985165  2016-11-18 21:57:00  218.53  218.53  218.45  218.470   416213.0   \n",
      "985166  2016-11-18 21:58:00  218.47  218.48  218.38  218.400   896463.0   \n",
      "985167  2016-11-18 21:59:00  218.40  218.52  218.29  218.520  2103390.0   \n",
      "\n",
      "                      n_ts  \n",
      "985163 2016-11-18 21:55:00  \n",
      "985164 2016-11-18 21:56:00  \n",
      "985165 2016-11-18 21:57:00  \n",
      "985166 2016-11-18 21:58:00  \n",
      "985167 2016-11-18 21:59:00  \n"
     ]
    }
   ],
   "source": [
    "import pandas as pd\n",
    "r_test = pandas.read_csv('spy_full.csv', usecols=[0,1,2,3,4,5])\n",
    "r_test['n_ts'] = pd.to_datetime(r_test['ts'])\n",
    "day_from = '20160101'\n",
    "day_to = '20161119'\n",
    "\n",
    "#features\n",
    "features = [o: true,\n",
    "            h: true,\n",
    "            l: true,\n",
    "            c: true]\n",
    "\n",
    "\n",
    "r_new = r_test.query(day_from+' < n_ts < '+day_to)\n",
    "\n",
    "len(r_new)\n",
    "#print(r_new.head())\n",
    "#print(r_new.tail())\n",
    "\n",
    "r_new = r_new.query('dt%2 == 0')"
   ]
  },
  {
   "cell_type": "code",
   "execution_count": 82,
   "metadata": {},
   "outputs": [
    {
     "data": {
      "text/plain": [
       "True"
      ]
     },
     "execution_count": 82,
     "metadata": {},
     "output_type": "execute_result"
    }
   ],
   "source": [
    "#features\n",
    "features = {'o': True,\n",
    "            'h': True,\n",
    "            'l': True,\n",
    "            'c': True,\n",
    "            'v': True}\n",
    "features['o']"
   ]
  },
  {
   "cell_type": "code",
   "execution_count": 62,
   "metadata": {},
   "outputs": [
    {
     "data": {
      "text/plain": [
       "14.0"
      ]
     },
     "execution_count": 62,
     "metadata": {},
     "output_type": "execute_result"
    }
   ],
   "source": [
    "5460/390"
   ]
  }
 ],
 "metadata": {
  "anaconda-cloud": {},
  "kernelspec": {
   "display_name": "Python 3",
   "language": "python",
   "name": "python3"
  },
  "language_info": {
   "codemirror_mode": {
    "name": "ipython",
    "version": 3
   },
   "file_extension": ".py",
   "mimetype": "text/x-python",
   "name": "python",
   "nbconvert_exporter": "python",
   "pygments_lexer": "ipython3",
   "version": "3.6.4"
  }
 },
 "nbformat": 4,
 "nbformat_minor": 1
}
