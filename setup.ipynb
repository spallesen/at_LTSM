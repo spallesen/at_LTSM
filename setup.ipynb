{
 "cells": [
  {
   "cell_type": "code",
   "execution_count": null,
   "metadata": {},
   "outputs": [],
   "source": [
    "#setup\n",
    "import datetime  \n",
    "import pandas as pd\n",
    "import backtrader as bt\n",
    "from backtrader import num2date\n",
    "\n",
    "transac2 = []\n",
    "opti_runs = []\n",
    "ordersdict = []\n",
    "trades = []\n",
    "valida = []\n",
    "opti = False\n",
    "ploting = True\n",
    "p_inline = True\n",
    "log_sl = False\n",
    "comp = 1"
   ]
  }
 ],
 "metadata": {
  "kernelspec": {
   "display_name": "Python 3",
   "language": "python",
   "name": "python3"
  },
  "language_info": {
   "codemirror_mode": {
    "name": "ipython",
    "version": 3
   },
   "file_extension": ".py",
   "mimetype": "text/x-python",
   "name": "python",
   "nbconvert_exporter": "python",
   "pygments_lexer": "ipython3",
   "version": "3.6.4"
  }
 },
 "nbformat": 4,
 "nbformat_minor": 2
}
